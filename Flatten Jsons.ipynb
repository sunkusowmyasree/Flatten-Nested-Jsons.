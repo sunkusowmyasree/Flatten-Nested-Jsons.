{
 "cells": [
  {
   "cell_type": "markdown",
   "metadata": {},
   "source": [
    "# Different Ways to Faltten Deeply Nested Jsons into pandas DataFrame"
   ]
  },
  {
   "cell_type": "markdown",
   "metadata": {},
   "source": [
    "Python have few modules to read and flatten json object and convert it into Pandas DataFrame\n",
    "- `Json_normalize`\n",
    "-  `read_json`\n",
    "- `json_loads`"
   ]
  },
  {
   "cell_type": "markdown",
   "metadata": {},
   "source": [
    "In Few Cases Even after using all modules the json is still nested. In this notebook we will see few methos to do it. Lets' Get Started"
   ]
  },
  {
   "cell_type": "markdown",
   "metadata": {},
   "source": [
    "## Import Python Modules"
   ]
  },
  {
   "cell_type": "code",
   "execution_count": 36,
   "metadata": {},
   "outputs": [],
   "source": [
    "import json\n",
    "import pandas as pd"
   ]
  },
  {
   "cell_type": "markdown",
   "metadata": {},
   "source": [
    "We will try to read a simple json and convert into dataframe"
   ]
  },
  {
   "cell_type": "code",
   "execution_count": 3,
   "metadata": {},
   "outputs": [
    {
     "data": {
      "text/plain": [
       "{'Name': 'Joey',\n",
       " 'Address': {'City': 'Bangalore', 'State': 'KA'},\n",
       " 'Country': 'India'}"
      ]
     },
     "execution_count": 3,
     "metadata": {},
     "output_type": "execute_result"
    }
   ],
   "source": [
    "sample_json = {'Name':'Joey', 'Address':{'City':'Bangalore','State':'KA'}, 'Country':'India'}\n",
    "sample_json"
   ]
  },
  {
   "cell_type": "code",
   "execution_count": 8,
   "metadata": {},
   "outputs": [
    {
     "data": {
      "text/html": [
       "<div>\n",
       "<style scoped>\n",
       "    .dataframe tbody tr th:only-of-type {\n",
       "        vertical-align: middle;\n",
       "    }\n",
       "\n",
       "    .dataframe tbody tr th {\n",
       "        vertical-align: top;\n",
       "    }\n",
       "\n",
       "    .dataframe thead th {\n",
       "        text-align: right;\n",
       "    }\n",
       "</style>\n",
       "<table border=\"1\" class=\"dataframe\">\n",
       "  <thead>\n",
       "    <tr style=\"text-align: right;\">\n",
       "      <th></th>\n",
       "      <th>Name</th>\n",
       "      <th>Country</th>\n",
       "      <th>Address.City</th>\n",
       "      <th>Address.State</th>\n",
       "    </tr>\n",
       "  </thead>\n",
       "  <tbody>\n",
       "    <tr>\n",
       "      <th>0</th>\n",
       "      <td>Joey</td>\n",
       "      <td>India</td>\n",
       "      <td>Bangalore</td>\n",
       "      <td>KA</td>\n",
       "    </tr>\n",
       "  </tbody>\n",
       "</table>\n",
       "</div>"
      ],
      "text/plain": [
       "   Name Country Address.City Address.State\n",
       "0  Joey   India    Bangalore            KA"
      ]
     },
     "execution_count": 8,
     "metadata": {},
     "output_type": "execute_result"
    }
   ],
   "source": [
    "df = pd.json_normalize(sample_json)\n",
    "df"
   ]
  },
  {
   "cell_type": "markdown",
   "metadata": {},
   "source": [
    "Looks good!! This is how `json_normalize` can be used to flatten semi-structured jsons. But this alone can't be used to flatten deeply nested Jsons. see below scenario as an example"
   ]
  },
  {
   "cell_type": "markdown",
   "metadata": {},
   "source": [
    "**Raw_Data**"
   ]
  },
  {
   "cell_type": "code",
   "execution_count": 45,
   "metadata": {},
   "outputs": [
    {
     "data": {
      "text/plain": [
       "{'_id': {'emp_id': '123456', 'DOJ': '20210101'},\n",
       " 'emp': {'details': {'WorkLocation': {'Country': 'India'},\n",
       "   'body': {'Document': {'action': 'Add',\n",
       "     'id': '123456',\n",
       "     'Doc': {'Identification': {'FirstName': 'Joey',\n",
       "       'Last Name': 'Lark',\n",
       "       'Workstation': 'FL03'},\n",
       "      'Dates': [{'DOJ': '20210101'}, {'DOP': '20210601'}],\n",
       "      'Status': {'Position': 'Active', 'StsFlag': '1'},\n",
       "      'Address': {'CurrentAddress': [{'CurrentOwner': {'Name': 'Test Building, Bangalore',\n",
       "          'Pincode': '345678'}}]}}}}}}}"
      ]
     },
     "execution_count": 45,
     "metadata": {},
     "output_type": "execute_result"
    }
   ],
   "source": [
    "{\n",
    "   \"_id\": {\n",
    "      \"emp_id\": \"123456\",\n",
    "      \"DOJ\": \"20210101\"\n",
    "   },\n",
    "   \"emp\": {\n",
    "      \"details\": {\n",
    "         \"WorkLocation\": {\n",
    "            \"Country\": \"India\"\n",
    "         },\n",
    "         \"body\": {\n",
    "            \"Document\": {\n",
    "               \"action\": \"Add\",\n",
    "               \"id\": \"123456\",\n",
    "               \"Doc\": {\n",
    "                  \"Identification\": {\n",
    "                     \"FirstName\": \"Joey\",\n",
    "                     \"Last Name\": \"Lark\",\n",
    "                     \"Workstation\": \"FL03\"\n",
    "                  },\n",
    "                  \"Dates\": [\n",
    "                     {\n",
    "                        \"DOJ\": \"20210101\"\n",
    "                     },\n",
    "                     {\n",
    "                        \"DOP\": \"20210601\"\n",
    "                     }\n",
    "                  ],\n",
    "                  \"Status\": {\n",
    "                     \"Position\": \"Active\",\n",
    "                     \"StsFlag\": \"1\"\n",
    "                  },\n",
    "                  \"Address\": {\n",
    "                     \"CurrentAddress\": [\n",
    "                        {\n",
    "                           \"CurrentOwner\": {\n",
    "                              \"Name\": \"Test Building, Bangalore\",\n",
    "                              \"Pincode\": \"345678\"\n",
    "                           }\n",
    "                        }\n",
    "                     ]\n",
    "                  }\n",
    "               }\n",
    "            }\n",
    "         }\n",
    "      }\n",
    "   }\n",
    "}\n"
   ]
  },
  {
   "cell_type": "code",
   "execution_count": 60,
   "metadata": {},
   "outputs": [
    {
     "data": {
      "text/html": [
       "<div>\n",
       "<style scoped>\n",
       "    .dataframe tbody tr th:only-of-type {\n",
       "        vertical-align: middle;\n",
       "    }\n",
       "\n",
       "    .dataframe tbody tr th {\n",
       "        vertical-align: top;\n",
       "    }\n",
       "\n",
       "    .dataframe thead th {\n",
       "        text-align: right;\n",
       "    }\n",
       "</style>\n",
       "<table border=\"1\" class=\"dataframe\">\n",
       "  <thead>\n",
       "    <tr style=\"text-align: right;\">\n",
       "      <th></th>\n",
       "      <th>_id.emp_id</th>\n",
       "      <th>_id.DOJ</th>\n",
       "      <th>emp.details.WorkLocation.Country</th>\n",
       "      <th>emp.details.body.Document.action</th>\n",
       "      <th>emp.details.body.Document.id</th>\n",
       "      <th>emp.details.body.Document.Doc.Identification.FirstName</th>\n",
       "      <th>emp.details.body.Document.Doc.Identification.Last Name</th>\n",
       "      <th>emp.details.body.Document.Doc.Identification.Workstation</th>\n",
       "      <th>emp.details.body.Document.Doc.Dates</th>\n",
       "      <th>emp.details.body.Document.Doc.Status.Position</th>\n",
       "      <th>emp.details.body.Document.Doc.Status.StsFlag</th>\n",
       "      <th>emp.details.body.Document.Doc.Address.CurrentAddress</th>\n",
       "    </tr>\n",
       "  </thead>\n",
       "  <tbody>\n",
       "    <tr>\n",
       "      <th>0</th>\n",
       "      <td>123456</td>\n",
       "      <td>20210101</td>\n",
       "      <td>India</td>\n",
       "      <td>Add</td>\n",
       "      <td>123456</td>\n",
       "      <td>Joey</td>\n",
       "      <td>Lark</td>\n",
       "      <td>FL03</td>\n",
       "      <td>[{'DOJ': '20210101'}, {'DOP': '20210601'}]</td>\n",
       "      <td>Active</td>\n",
       "      <td>1</td>\n",
       "      <td>[{'CurrentOwner': {'Name': 'Test Building, Ban...</td>\n",
       "    </tr>\n",
       "  </tbody>\n",
       "</table>\n",
       "</div>"
      ],
      "text/plain": [
       "  _id.emp_id   _id.DOJ emp.details.WorkLocation.Country  \\\n",
       "0     123456  20210101                            India   \n",
       "\n",
       "  emp.details.body.Document.action emp.details.body.Document.id  \\\n",
       "0                              Add                       123456   \n",
       "\n",
       "  emp.details.body.Document.Doc.Identification.FirstName  \\\n",
       "0                                               Joey       \n",
       "\n",
       "  emp.details.body.Document.Doc.Identification.Last Name  \\\n",
       "0                                               Lark       \n",
       "\n",
       "  emp.details.body.Document.Doc.Identification.Workstation  \\\n",
       "0                                               FL03         \n",
       "\n",
       "          emp.details.body.Document.Doc.Dates  \\\n",
       "0  [{'DOJ': '20210101'}, {'DOP': '20210601'}]   \n",
       "\n",
       "  emp.details.body.Document.Doc.Status.Position  \\\n",
       "0                                        Active   \n",
       "\n",
       "  emp.details.body.Document.Doc.Status.StsFlag  \\\n",
       "0                                            1   \n",
       "\n",
       "  emp.details.body.Document.Doc.Address.CurrentAddress  \n",
       "0  [{'CurrentOwner': {'Name': 'Test Building, Ban...    "
      ]
     },
     "execution_count": 60,
     "metadata": {},
     "output_type": "execute_result"
    }
   ],
   "source": [
    "with open('nested_json.json','r') as f:\n",
    "    data = json.load(f)\n",
    "\n",
    "df = pd.json_normalize(data)\n",
    "df"
   ]
  },
  {
   "cell_type": "code",
   "execution_count": 57,
   "metadata": {},
   "outputs": [
    {
     "data": {
      "text/plain": [
       "Index(['_id.emp_id', '_id.DOJ', 'emp.details.WorkLocation.Country',\n",
       "       'emp.details.body.Document.action', 'emp.details.body.Document.id',\n",
       "       'emp.details.body.Document.Doc.Identification.FirstName',\n",
       "       'emp.details.body.Document.Doc.Identification.Last Name',\n",
       "       'emp.details.body.Document.Doc.Identification.Workstation',\n",
       "       'emp.details.body.Document.Doc.Dates',\n",
       "       'emp.details.body.Document.Doc.Status.Position',\n",
       "       'emp.details.body.Document.Doc.Status.StsFlag',\n",
       "       'emp.details.body.Document.Doc.Address.CurrentAddress'],\n",
       "      dtype='object')"
      ]
     },
     "execution_count": 57,
     "metadata": {},
     "output_type": "execute_result"
    }
   ],
   "source": [
    "df.columns"
   ]
  },
  {
   "cell_type": "markdown",
   "metadata": {},
   "source": [
    "Here We can see for below two columns even after using `json_normalize` the json isn't flattened\n",
    "- emp.details.body.Document.Doc.Dates\n",
    "- emp.details.body.Document.Doc.Address.CurrentAddress"
   ]
  },
  {
   "cell_type": "markdown",
   "metadata": {},
   "source": [
    "Let's see Few methods on how can we still flatten this json"
   ]
  },
  {
   "cell_type": "markdown",
   "metadata": {},
   "source": [
    "I have written below Function which can flatten nested column in a dataframe"
   ]
  },
  {
   "cell_type": "code",
   "execution_count": 61,
   "metadata": {},
   "outputs": [],
   "source": [
    "def flat_nested_cols(alist):\n",
    "        \"\"\"\n",
    "        Pass a List of Nested Columns and it returns flattened columns\n",
    "        Args:\n",
    "        INPUT - alist- Pass a List which have nested dictionaries inside it\n",
    "        OUTPUT - Returns a Dictionary which have seperate Header and Values for Each Element inside a nested dictionary\n",
    "        \"\"\"\n",
    "        outputdict = {}\n",
    "        for dic in alist:\n",
    "            for key, value in dic.items():\n",
    "                if isinstance(value, dict):\n",
    "                    for k2, v2, in value.items():\n",
    "                        #Append Key as a prefix to Each Header Name\n",
    "                        k2=key+'.'+k2\n",
    "                        outputdict[k2] = outputdict.get(k2, []) + [v2]\n",
    "                else:\n",
    "                    outputdict[key] = outputdict.get(key, []) + [value]\n",
    "        return outputdict "
   ]
  },
  {
   "cell_type": "markdown",
   "metadata": {},
   "source": [
    "Making use of Above Function. FLatten the Two columns from above dataframe"
   ]
  },
  {
   "cell_type": "code",
   "execution_count": 62,
   "metadata": {},
   "outputs": [],
   "source": [
    "cols_list = ['emp.details.body.Document.Doc.Dates',\n",
    "            'emp.details.body.Document.Doc.Address.CurrentAddress']\n",
    "\n",
    "#Iterate this loop for each column in the Cols_list\n",
    "for col in cols_list:\n",
    "    li=[]\n",
    "    #Ti Iterdate through each row in a dataframe\n",
    "    for i in range(len(df['_id.emp_id'])):\n",
    "        #Using Try and Expect Method in order to avoid nulls\n",
    "        try:\n",
    "            a=flat_nested_cols(df[col][i])\n",
    "            li.append(a)\n",
    "        except:\n",
    "            li.append({})\n",
    "    #Load the List into a dataframe\n",
    "    df_l = pd.DataFrame(li)\n",
    "    #Concat with the Main DataFrame\n",
    "    df = pd.concat([df.reset_index(drop=True),df_l.reset_index(drop=True)], axis=1)\n",
    "\n",
    "#Drop the columns in Cols_list\n",
    "df.drop(cols_list, axis=1, inplace=True)\n"
   ]
  },
  {
   "cell_type": "code",
   "execution_count": 63,
   "metadata": {},
   "outputs": [
    {
     "data": {
      "text/plain": [
       "Index(['_id.emp_id', '_id.DOJ', 'emp.details.WorkLocation.Country',\n",
       "       'emp.details.body.Document.action', 'emp.details.body.Document.id',\n",
       "       'emp.details.body.Document.Doc.Identification.FirstName',\n",
       "       'emp.details.body.Document.Doc.Identification.Last Name',\n",
       "       'emp.details.body.Document.Doc.Identification.Workstation',\n",
       "       'emp.details.body.Document.Doc.Status.Position',\n",
       "       'emp.details.body.Document.Doc.Status.StsFlag', 'DOJ', 'DOP',\n",
       "       'CurrentOwner.Name', 'CurrentOwner.Pincode'],\n",
       "      dtype='object')"
      ]
     },
     "execution_count": 63,
     "metadata": {},
     "output_type": "execute_result"
    }
   ],
   "source": [
    "df.columns"
   ]
  },
  {
   "cell_type": "code",
   "execution_count": 64,
   "metadata": {},
   "outputs": [
    {
     "data": {
      "text/html": [
       "<div>\n",
       "<style scoped>\n",
       "    .dataframe tbody tr th:only-of-type {\n",
       "        vertical-align: middle;\n",
       "    }\n",
       "\n",
       "    .dataframe tbody tr th {\n",
       "        vertical-align: top;\n",
       "    }\n",
       "\n",
       "    .dataframe thead th {\n",
       "        text-align: right;\n",
       "    }\n",
       "</style>\n",
       "<table border=\"1\" class=\"dataframe\">\n",
       "  <thead>\n",
       "    <tr style=\"text-align: right;\">\n",
       "      <th></th>\n",
       "      <th>_id.emp_id</th>\n",
       "      <th>_id.DOJ</th>\n",
       "      <th>emp.details.WorkLocation.Country</th>\n",
       "      <th>emp.details.body.Document.action</th>\n",
       "      <th>emp.details.body.Document.id</th>\n",
       "      <th>emp.details.body.Document.Doc.Identification.FirstName</th>\n",
       "      <th>emp.details.body.Document.Doc.Identification.Last Name</th>\n",
       "      <th>emp.details.body.Document.Doc.Identification.Workstation</th>\n",
       "      <th>emp.details.body.Document.Doc.Status.Position</th>\n",
       "      <th>emp.details.body.Document.Doc.Status.StsFlag</th>\n",
       "      <th>DOJ</th>\n",
       "      <th>DOP</th>\n",
       "      <th>CurrentOwner.Name</th>\n",
       "      <th>CurrentOwner.Pincode</th>\n",
       "    </tr>\n",
       "  </thead>\n",
       "  <tbody>\n",
       "    <tr>\n",
       "      <th>0</th>\n",
       "      <td>123456</td>\n",
       "      <td>20210101</td>\n",
       "      <td>India</td>\n",
       "      <td>Add</td>\n",
       "      <td>123456</td>\n",
       "      <td>Joey</td>\n",
       "      <td>Lark</td>\n",
       "      <td>FL03</td>\n",
       "      <td>Active</td>\n",
       "      <td>1</td>\n",
       "      <td>[20210101]</td>\n",
       "      <td>[20210601]</td>\n",
       "      <td>[Test Building, Bangalore]</td>\n",
       "      <td>[345678]</td>\n",
       "    </tr>\n",
       "  </tbody>\n",
       "</table>\n",
       "</div>"
      ],
      "text/plain": [
       "  _id.emp_id   _id.DOJ emp.details.WorkLocation.Country  \\\n",
       "0     123456  20210101                            India   \n",
       "\n",
       "  emp.details.body.Document.action emp.details.body.Document.id  \\\n",
       "0                              Add                       123456   \n",
       "\n",
       "  emp.details.body.Document.Doc.Identification.FirstName  \\\n",
       "0                                               Joey       \n",
       "\n",
       "  emp.details.body.Document.Doc.Identification.Last Name  \\\n",
       "0                                               Lark       \n",
       "\n",
       "  emp.details.body.Document.Doc.Identification.Workstation  \\\n",
       "0                                               FL03         \n",
       "\n",
       "  emp.details.body.Document.Doc.Status.Position  \\\n",
       "0                                        Active   \n",
       "\n",
       "  emp.details.body.Document.Doc.Status.StsFlag         DOJ         DOP  \\\n",
       "0                                            1  [20210101]  [20210601]   \n",
       "\n",
       "            CurrentOwner.Name CurrentOwner.Pincode  \n",
       "0  [Test Building, Bangalore]             [345678]  "
      ]
     },
     "execution_count": 64,
     "metadata": {},
     "output_type": "execute_result"
    }
   ],
   "source": [
    "df"
   ]
  },
  {
   "cell_type": "markdown",
   "metadata": {},
   "source": [
    "Now we can see the nested columns are flattened. After trying various ways and methods. I found this to be easy and simplest. I hope this helps :)"
   ]
  },
  {
   "cell_type": "code",
   "execution_count": null,
   "metadata": {},
   "outputs": [],
   "source": []
  }
 ],
 "metadata": {
  "kernelspec": {
   "display_name": "Python 3",
   "language": "python",
   "name": "python3"
  },
  "language_info": {
   "codemirror_mode": {
    "name": "ipython",
    "version": 3
   },
   "file_extension": ".py",
   "mimetype": "text/x-python",
   "name": "python",
   "nbconvert_exporter": "python",
   "pygments_lexer": "ipython3",
   "version": "3.8.3"
  }
 },
 "nbformat": 4,
 "nbformat_minor": 4
}
